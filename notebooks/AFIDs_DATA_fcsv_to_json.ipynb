{
  "nbformat": 4,
  "nbformat_minor": 0,
  "metadata": {
    "colab": {
      "name": "AFIDs-DATA | *fcsv to *json.ipynb",
      "provenance": [],
      "history_visible": true
    },
    "kernelspec": {
      "name": "python3",
      "display_name": "Python 3"
    },
    "language_info": {
      "name": "python"
    }
  },
  "cells": [
    {
      "cell_type": "markdown",
      "source": [
        "# 3DSlicer .fcsv to coordinate.json file format\n",
        "### There is currently no standard way for communicating coordinate data that is not accociated with the typical IEEG or MEG studies. For this, we use inspiration from the Brain Imaging Data Structure v1.4.0 (Appendix VIII: Coordinate systems) and create a way to communicate our coordiante data. \n"
      ],
      "metadata": {
        "id": "5YVzFhDgDXi4"
      }
    },
    {
      "cell_type": "code",
      "execution_count": null,
      "metadata": {
        "colab": {
          "base_uri": "https://localhost:8080/"
        },
        "id": "fbdcka8KDSOf",
        "outputId": "8921a6cd-dd07-4dd6-e1d0-b503134e619a"
      },
      "outputs": [
        {
          "output_type": "stream",
          "name": "stdout",
          "text": [
            "Mounted at /content/drive\n"
          ]
        }
      ],
      "source": [
        "import os\n",
        "import pandas as pd\n",
        "import json\n",
        "from glob import glob\n",
        "from google.colab import drive\n",
        "drive.mount('/content/drive')"
      ]
    },
    {
      "cell_type": "code",
      "source": [
        "!git clone https://github.com/ataha24/afids-data"
      ],
      "metadata": {
        "colab": {
          "base_uri": "https://localhost:8080/"
        },
        "id": "GN-4tvauzhmO",
        "outputId": "0b7b24b9-f5dd-4e2f-cbee-8a1f91a0771d"
      },
      "execution_count": null,
      "outputs": [
        {
          "output_type": "stream",
          "name": "stdout",
          "text": [
            "Cloning into 'afids-data'...\n",
            "remote: Enumerating objects: 906, done.\u001b[K\n",
            "remote: Counting objects: 100% (127/127), done.\u001b[K\n",
            "remote: Compressing objects: 100% (56/56), done.\u001b[K\n",
            "remote: Total 906 (delta 81), reused 114 (delta 69), pack-reused 779\u001b[K\n",
            "Receiving objects: 100% (906/906), 101.62 MiB | 5.42 MiB/s, done.\n",
            "Resolving deltas: 100% (698/698), done.\n"
          ]
        }
      ]
    },
    {
      "cell_type": "code",
      "source": [
        "# path to the bids folder\n",
        "fcsv_files = sorted(glob('afids-data/data/templates/*/*.fcsv')) #path to rater placements \n",
        "\n",
        "for file in fcsv_files:\n",
        "  fid_data = pd.read_csv(file, skiprows=3, header=None)\n",
        "  fid_data.rename(columns={0: 'node_id', 1: 'x', 2: 'y', 3: 'z', 4: 'ow', 5: 'ox',\n",
        "                                     6: 'oy', 7: 'oz', 8: 'vis', 9: 'sel', 10: 'lock',\n",
        "                                     11: 'label', 12: 'description', 13: 'associatedNodeID'}, inplace=True)\n",
        "  afid_desc = {}\n",
        "  for ifid in fid_data['description']:\n",
        "      afid_desc[ifid] = fid_data[fid_data['description'] == ifid][['x', 'y', 'z']].values[0].tolist()\n",
        "      afid_dict = {\"IntendedFor\": f\"anat/*_space-T1w_desc-groundtruth_afids.fcsv\", \"FiducialsCoordinateSystem\": \"RAS\",\n",
        "                                 \"FiducialsCoordinateUnits\": \"mm\",\n",
        "                                 \"FiducialsCoordinateSystemDescription\": \"RAS orientation: Origin halfway between LPA and RPA, positive x-axis towards RPA, positive y-axis orthogonal to x-axis through Nasion,  z-axis orthogonal to xy-plane, pointing in superior direction.\",\n",
        "                                 \"FiducialsCoordinates\": afid_desc}\n",
        "\n",
        "      json_output = json.dumps(afid_dict, indent=4)\n",
        "      with open(f\"{file[0:-5]}_coordsystem.json\", 'w') as fid:\n",
        "                        fid.write(json_output)\n",
        "                        fid.write('\\n')"
      ],
      "metadata": {
        "id": "FffXOB04Dv3j"
      },
      "execution_count": null,
      "outputs": []
    }
  ]
}